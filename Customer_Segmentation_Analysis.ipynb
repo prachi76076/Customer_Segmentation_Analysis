{
 "cells": [
  {
   "cell_type": "code",
   "execution_count": 1,
   "id": "4a1eeb74-6d58-4879-885c-698fb7198fbd",
   "metadata": {},
   "outputs": [],
   "source": [
    "import pandas as pd\n",
    "import numpy as np\n",
    "import matplotlib.pyplot as plt\n",
    "import seaborn as sns\n",
    "from sklearn.preprocessing import StandardScaler, LabelEncoder\n",
    "from sklearn.cluster import KMeans\n",
    "from sklearn.decomposition import PCA\n",
    "from sklearn.metrics import silhouette_score"
   ]
  },
  {
   "cell_type": "code",
   "execution_count": 2,
   "id": "390e431a-a0bd-455e-a644-b51e5eebb090",
   "metadata": {},
   "outputs": [],
   "source": [
    "%matplotlib inline"
   ]
  },
  {
   "cell_type": "code",
   "execution_count": 3,
   "id": "27c77f29-d954-45de-85ea-fe53f4981493",
   "metadata": {},
   "outputs": [],
   "source": [
    "data = pd.read_csv(r\"C:\\Users\\PRACHI TIWARI\\OneDrive\\Documents\\Customer_data.csv\")"
   ]
  },
  {
   "cell_type": "code",
   "execution_count": 4,
   "id": "5d1a24f8-622a-4ed9-818a-0b7a2319b039",
   "metadata": {},
   "outputs": [
    {
     "name": "stdout",
     "output_type": "stream",
     "text": [
      "Dataset Overview:\n",
      "<class 'pandas.core.frame.DataFrame'>\n",
      "RangeIndex: 10 entries, 0 to 9\n",
      "Data columns (total 19 columns):\n",
      " #   Column                    Non-Null Count  Dtype \n",
      "---  ------                    --------------  ----- \n",
      " 0   Customer_id               10 non-null     int64 \n",
      " 1   Age                       10 non-null     int64 \n",
      " 2   Gender                    10 non-null     object\n",
      " 3   Income                    10 non-null     int64 \n",
      " 4   Location                  10 non-null     object\n",
      " 5   Occupation                10 non-null     object\n",
      " 6   Marital_Status            10 non-null     object\n",
      " 7   Total_Spend               10 non-null     int64 \n",
      " 8   Purchase_Frequency        10 non-null     int64 \n",
      " 9   Last_Purchase_Date        10 non-null     object\n",
      " 10  Days_Since_Last_Purchase  10 non-null     int64 \n",
      " 11  Number_of_Purchases       10 non-null     int64 \n",
      " 12  Average_Order_Value       10 non-null     int64 \n",
      " 13  Preferred_Category        10 non-null     object\n",
      " 14  Discount_Sensitivity      10 non-null     object\n",
      " 15  Loyality_Program_Member   10 non-null     object\n",
      " 16  Brand_Affinity            10 non-null     object\n",
      " 17  Channel_Preference        10 non-null     object\n",
      " 18  Customer_Rating           10 non-null     int64 \n",
      "dtypes: int64(9), object(10)\n",
      "memory usage: 1.6+ KB\n",
      "None\n",
      "\n",
      "Sample Data:\n",
      "   Customer_id  Age   Gender  Income  Location  Occupation Marital_Status   \\\n",
      "0          101    25    Male    25000     India    Teacher          Single   \n",
      "1          102    50  Female    30000   America   Engineer         Married   \n",
      "2          103    30    Male    15000  Pakistan     Lawyer          Single   \n",
      "3          104    45  Female    40000    Africa     Doctor          Single   \n",
      "4          105    35    Male    20000   England    Manager         Married   \n",
      "\n",
      "   Total_Spend   Purchase_Frequency Last_Purchase_Date  \\\n",
      "0          1000                   4         16/12/2024   \n",
      "1          1500                  16         14/12/2024   \n",
      "2          2000                  14         12/12/2024   \n",
      "3          1200                  12         20/12/2024   \n",
      "4          1800                   6         25/12/2024   \n",
      "\n",
      "   Days_Since_Last_Purchase  Number_of_Purchases  Average_Order_Value   \\\n",
      "0                         5                   45                   100   \n",
      "1                         7                   20                    50   \n",
      "2                         8                   35                    60   \n",
      "3                         4                   30                    40   \n",
      "4                         6                   10                    45   \n",
      "\n",
      "  Preferred_Category Discount_Sensitivity Loyality_Program_Member   \\\n",
      "0        Electronics                 High                      Yes   \n",
      "1            Fashion               Medium                       No   \n",
      "2         Home Goods                  Low                      Yes   \n",
      "3         Home Goods               Medium                       No   \n",
      "4        Electronics               Medium                       No   \n",
      "\n",
      "  Brand_Affinity Channel_Preference  Customer_Rating  \n",
      "0          Apple           In-Store                4  \n",
      "1           Nike             Online                5  \n",
      "2        Samsung           In-Store                4  \n",
      "3        Samsung           In-Store                3  \n",
      "4          Apple             Online                3  \n"
     ]
    }
   ],
   "source": [
    "print(\"Dataset Overview:\")\n",
    "print(data.info())\n",
    "print(\"\\nSample Data:\")\n",
    "print(data.head())"
   ]
  },
  {
   "cell_type": "code",
   "execution_count": 5,
   "id": "de2e2366-233c-43fe-8e80-910449621afe",
   "metadata": {},
   "outputs": [],
   "source": [
    "data.fillna(data.median(numeric_only=True), inplace=True)"
   ]
  },
  {
   "cell_type": "code",
   "execution_count": 6,
   "id": "5fc38f4f-8a52-4f5f-8804-ee40c1003a56",
   "metadata": {},
   "outputs": [
    {
     "name": "stdout",
     "output_type": "stream",
     "text": [
      "Available columns in the dataset:\n",
      "['Customer_id', 'Age ', 'Gender', 'Income ', 'Location ', 'Occupation', 'Marital_Status ', 'Total_Spend ', 'Purchase_Frequency', 'Last_Purchase_Date', 'Days_Since_Last_Purchase', 'Number_of_Purchases', 'Average_Order_Value ', 'Preferred_Category', 'Discount_Sensitivity', 'Loyality_Program_Member ', 'Brand_Affinity', 'Channel_Preference', 'Customer_Rating']\n"
     ]
    }
   ],
   "source": [
    "print(\"Available columns in the dataset:\")\n",
    "print(data.columns.tolist())"
   ]
  },
  {
   "cell_type": "code",
   "execution_count": 7,
   "id": "29505b8b-9271-434f-bc6b-8dfb72aaaa80",
   "metadata": {},
   "outputs": [],
   "source": [
    "categorical_columns = ['Gender', 'Occupation','Brand_Affinity', 'Marital_Status','Loyality_Program_Member', 'Discount_Sensitivity',\n",
    "                       'Preferred_Category', 'Location','Channel_Preference'] "
   ]
  },
  {
   "cell_type": "code",
   "execution_count": 8,
   "id": "e0c62daa-ace7-483b-9918-e9ea092e9baf",
   "metadata": {},
   "outputs": [
    {
     "name": "stdout",
     "output_type": "stream",
     "text": [
      "Filtered categorical columns: ['Gender', 'Occupation', 'Brand_Affinity', 'Discount_Sensitivity', 'Preferred_Category', 'Channel_Preference']\n"
     ]
    }
   ],
   "source": [
    "categorical_columns = [col for col in categorical_columns if col in data.columns]\n",
    "print(\"Filtered categorical columns:\", categorical_columns)\n"
   ]
  },
  {
   "cell_type": "code",
   "execution_count": 9,
   "id": "60e43bee-c41c-4502-863b-4593fee9e4f2",
   "metadata": {},
   "outputs": [],
   "source": [
    "label_encoder = LabelEncoder()\n",
    "for col in categorical_columns:\n",
    "    data[col] = label_encoder.fit_transform(data[col])\n"
   ]
  },
  {
   "cell_type": "code",
   "execution_count": 10,
   "id": "83b1f46b-2aad-42e0-a72c-cf49c3cb4595",
   "metadata": {},
   "outputs": [
    {
     "name": "stdout",
     "output_type": "stream",
     "text": [
      "['Location ']\n"
     ]
    }
   ],
   "source": [
    "\n",
    "print([col for col in data.columns if 'loc' in col.lower()])\n"
   ]
  },
  {
   "cell_type": "code",
   "execution_count": 11,
   "id": "6aa449bb-8118-4578-a8a3-052e5f77deb7",
   "metadata": {},
   "outputs": [
    {
     "name": "stdout",
     "output_type": "stream",
     "text": [
      "Available columns in the DataFrame:\n",
      "['Customer_id', 'Age ', 'Gender', 'Income ', 'Location ', 'Occupation', 'Marital_Status ', 'Total_Spend ', 'Purchase_Frequency', 'Last_Purchase_Date', 'Days_Since_Last_Purchase', 'Number_of_Purchases', 'Average_Order_Value ', 'Preferred_Category', 'Discount_Sensitivity', 'Loyality_Program_Member ', 'Brand_Affinity', 'Channel_Preference', 'Customer_Rating']\n"
     ]
    }
   ],
   "source": [
    "print(\"Available columns in the DataFrame:\")\n",
    "print(data.columns.tolist())\n"
   ]
  },
  {
   "cell_type": "code",
   "execution_count": 12,
   "id": "495405c5-0a18-45d1-85e3-08805a281422",
   "metadata": {},
   "outputs": [
    {
     "name": "stdout",
     "output_type": "stream",
     "text": [
      "Existing columns: ['Purchase_Frequency', 'Days_Since_Last_Purchase', 'Number_of_Purchases', 'Brand_Affinity', 'Customer_Rating']\n",
      "Missing columns: ['Age', 'Income', 'Total_Spend', 'Average_Order_Value', 'Loyality_Program_Member']\n"
     ]
    }
   ],
   "source": [
    "numerical_columns = [\n",
    "    'Age', 'Income', 'Total_Spend', 'Purchase_Frequency',\n",
    "    'Days_Since_Last_Purchase', 'Number_of_Purchases',\n",
    "    'Average_Order_Value', \n",
    "    'Loyality_Program_Member', 'Brand_Affinity', 'Customer_Rating'\n",
    "]\n",
    "\n",
    "# Checking which columns are missing\n",
    "existing_columns = [col for col in numerical_columns if col in data.columns]\n",
    "missing_columns = [col for col in numerical_columns if col not in data.columns]\n",
    "\n",
    "print(\"Existing columns:\", existing_columns)\n",
    "print(\"Missing columns:\", missing_columns)\n"
   ]
  },
  {
   "cell_type": "code",
   "execution_count": 13,
   "id": "56546dbc-d229-4c42-9760-b1503af6f3e0",
   "metadata": {},
   "outputs": [],
   "source": [
    "numerical_columns = existing_columns\n"
   ]
  },
  {
   "cell_type": "code",
   "execution_count": 14,
   "id": "fb9fe104-c4a3-4e70-b259-e59f71d542bd",
   "metadata": {},
   "outputs": [],
   "source": [
    "from sklearn.preprocessing import StandardScaler\n",
    "\n",
    "scaler = StandardScaler()\n",
    "data[numerical_columns] = scaler.fit_transform(data[numerical_columns])\n"
   ]
  },
  {
   "cell_type": "code",
   "execution_count": 16,
   "id": "f0a04e9f-4e10-4bfa-8171-c72ba9874c03",
   "metadata": {},
   "outputs": [
    {
     "name": "stdout",
     "output_type": "stream",
     "text": [
      "Processed Data Preview:\n",
      "   Customer_id  Age   Gender  Income  Location   Occupation Marital_Status   \\\n",
      "0          101    25       1    25000     India           4          Single   \n",
      "1          102    50       0    30000   America           1         Married   \n",
      "2          103    30       1    15000  Pakistan           2          Single   \n",
      "3          104    45       0    40000    Africa           0          Single   \n",
      "4          105    35       1    20000   England           3         Married   \n",
      "\n",
      "   Total_Spend   Purchase_Frequency Last_Purchase_Date  \\\n",
      "0          1000           -1.109653         16/12/2024   \n",
      "1          1500            1.451085         14/12/2024   \n",
      "2          2000            1.024295         12/12/2024   \n",
      "3          1200            0.597505         20/12/2024   \n",
      "4          1800           -0.682863         25/12/2024   \n",
      "\n",
      "   Days_Since_Last_Purchase  Number_of_Purchases  Average_Order_Value   \\\n",
      "0                 -0.870388             1.393261                   100   \n",
      "1                 -0.174078            -0.717741                    50   \n",
      "2                  0.174078             0.548860                    60   \n",
      "3                 -1.218544             0.126660                    40   \n",
      "4                 -0.522233            -1.562141                    45   \n",
      "\n",
      "   Preferred_Category  Discount_Sensitivity Loyality_Program_Member   \\\n",
      "0                   0                     0                      Yes   \n",
      "1                   1                     2                       No   \n",
      "2                   2                     1                      Yes   \n",
      "3                   2                     2                       No   \n",
      "4                   0                     2                       No   \n",
      "\n",
      "   Brand_Affinity  Channel_Preference  Customer_Rating  \n",
      "0       -0.696526                   0         0.333333  \n",
      "1        0.298511                   1         1.444444  \n",
      "2        1.293548                   0         0.333333  \n",
      "3        1.293548                   0        -0.777778  \n",
      "4       -0.696526                   1        -0.777778  \n"
     ]
    }
   ],
   "source": [
    "print(\"Processed Data Preview:\")\n",
    "print(data.head())"
   ]
  },
  {
   "cell_type": "code",
   "execution_count": 17,
   "id": "1bc56c95-5550-4981-b0fe-8a89a307d236",
   "metadata": {},
   "outputs": [],
   "source": [
    "inertia = []\n",
    "k_values = range(2, 11)\n",
    "\n",
    "for k in k_values:\n",
    "    kmeans = KMeans(n_clusters=k, random_state=42)\n",
    "    kmeans.fit(data[numerical_columns])\n",
    "    inertia.append(kmeans.inertia_)\n"
   ]
  },
  {
   "cell_type": "code",
   "execution_count": 18,
   "id": "226946e6-adaf-415e-a14b-037bba33e4c1",
   "metadata": {},
   "outputs": [
    {
     "data": {
      "image/png": "[encoded data removed]",
      "text/plain": [
       "<Figure size 800x500 with 1 Axes>"
      ]
     },
     "metadata": {},
     "output_type": "display_data"
    }
   ],
   "source": [
    "plt.figure(figsize=(8, 5))\n",
    "plt.plot(k_values, inertia, marker='o', linestyle='--')\n",
    "plt.title('Elbow Method for Optimal K')\n",
    "plt.xlabel('Number of Clusters (k)')\n",
    "plt.ylabel('Inertia')\n",
    "plt.show()"
   ]
  },
  {
   "cell_type": "code",
   "execution_count": 19,
   "id": "45348c56-7bef-4b6f-a832-c884103112b8",
   "metadata": {},
   "outputs": [],
   "source": [
    "kmeans = KMeans(n_clusters=4, random_state=42)\n",
    "data['Cluster'] = kmeans.fit_predict(data[numerical_columns])"
   ]
  },
  {
   "cell_type": "code",
   "execution_count": 20,
   "id": "ca8cf84f-9272-4a51-991f-a9b8df8ab1c8",
   "metadata": {},
   "outputs": [
    {
     "name": "stdout",
     "output_type": "stream",
     "text": [
      "Clustered Data Sample:\n",
      "   Customer_id  Cluster\n",
      "0          101        2\n",
      "1          102        1\n",
      "2          103        0\n",
      "3          104        0\n",
      "4          105        1\n"
     ]
    }
   ],
   "source": [
    "print(\"Clustered Data Sample:\")\n",
    "print(data[['Customer_id', 'Cluster']].head())"
   ]
  },
  {
   "cell_type": "code",
   "execution_count": 21,
   "id": "c8d40845-fdb0-41fb-b16e-4dc35450b5e5",
   "metadata": {},
   "outputs": [],
   "source": [
    "pca = PCA(n_components=2)\n",
    "pca_result = pca.fit_transform(data[numerical_columns])\n"
   ]
  },
  {
   "cell_type": "code",
   "execution_count": 22,
   "id": "a7786d77-bde2-46b1-8cfa-fc3edc3ce303",
   "metadata": {},
   "outputs": [
    {
     "data": {
      "image/png": "[encoded data removed]",
      "text/plain": [
       "<Figure size 1000x600 with 1 Axes>"
      ]
     },
     "metadata": {},
     "output_type": "display_data"
    }
   ],
   "source": [
    "plt.figure(figsize=(10, 6))\n",
    "sns.scatterplot(x=pca_result[:, 0], y=pca_result[:, 1], hue=data['Cluster'], palette='viridis')\n",
    "plt.title('Customer Segments (PCA Projection)')\n",
    "plt.xlabel('PCA Component 1')\n",
    "plt.ylabel('PCA Component 2')\n",
    "plt.legend(title='Cluster')\n",
    "plt.show()"
   ]
  },
  {
   "cell_type": "code",
   "execution_count": 26,
   "id": "4a3ad6da-9848-4d30-ae84-90102baba486",
   "metadata": {},
   "outputs": [
    {
     "name": "stdout",
     "output_type": "stream",
     "text": [
      "Customer_id                   int64\n",
      "Age                           int64\n",
      "Gender                        int64\n",
      "Income                        int64\n",
      "Location                     object\n",
      "Occupation                    int64\n",
      "Marital_Status               object\n",
      "Total_Spend                   int64\n",
      "Purchase_Frequency          float64\n",
      "Last_Purchase_Date           object\n",
      "Days_Since_Last_Purchase    float64\n",
      "Number_of_Purchases         float64\n",
      "Average_Order_Value           int64\n",
      "Preferred_Category            int64\n",
      "Discount_Sensitivity          int64\n",
      "Loyality_Program_Member      object\n",
      "Brand_Affinity              float64\n",
      "Channel_Preference            int64\n",
      "Customer_Rating             float64\n",
      "Cluster                       int32\n",
      "dtype: object\n",
      "Cluster Summary:\n",
      "         Customer_id       Age     Gender  Income   Occupation  Total_Spend   \\\n",
      "Cluster                                                                        \n",
      "0              105.0  38.333333  0.333333  35000.0    1.333333        1900.0   \n",
      "1              106.4  41.000000  0.600000  30000.0    2.200000        2180.0   \n",
      "2              101.0  25.000000  1.000000  25000.0    4.000000        1000.0   \n",
      "3              107.0  35.000000  0.000000  45000.0    1.000000        2200.0   \n",
      "\n",
      "         Purchase_Frequency  Days_Since_Last_Purchase  Number_of_Purchases  \\\n",
      "Cluster                                                                      \n",
      "0                  0.953163                 -0.870388             0.548860   \n",
      "1                 -0.170716                  0.382971            -0.886621   \n",
      "2                 -1.109653                 -0.870388             1.393261   \n",
      "3                 -0.896258                  1.566699             1.393261   \n",
      "\n",
      "         Average_Order_Value   Preferred_Category  Discount_Sensitivity  \\\n",
      "Cluster                                                                   \n",
      "0                   66.666667                 2.0              1.333333   \n",
      "1                   44.000000                 0.4              1.400000   \n",
      "2                  100.000000                 0.0              0.000000   \n",
      "3                   35.000000                 1.0              0.000000   \n",
      "\n",
      "         Brand_Affinity  Channel_Preference  Customer_Rating  Cluster  \n",
      "Cluster                                                                \n",
      "0              1.293548                 0.0        -0.407407      0.0  \n",
      "1             -0.298511                 0.8         0.555556      1.0  \n",
      "2             -0.696526                 0.0         0.333333      2.0  \n",
      "3             -1.691563                 1.0        -1.888889      3.0  \n"
     ]
    }
   ],
   "source": [
    "print(data.dtypes)\n",
    "\n",
    "numeric_columns = data.select_dtypes(include=['number']).columns\n",
    "cluster_summary = data.groupby('Cluster')[numeric_columns].mean()\n",
    "print(\"Cluster Summary:\")\n",
    "print(cluster_summary)\n",
    "\n",
    "\n"
   ]
  }
 ],
 "metadata": {
  "kernelspec": {
   "display_name": "Python 3 (ipykernel)",
   "language": "python",
   "name": "python3"
  },
  "language_info": {
   "codemirror_mode": {
    "name": "ipython",
    "version": 3
   },
   "file_extension": ".py",
   "mimetype": "text/x-python",
   "name": "python",
   "nbconvert_exporter": "python",
   "pygments_lexer": "ipython3",
   "version": "3.12.6"
  }
 },
 "nbformat": 4,
 "nbformat_minor": 5
}
